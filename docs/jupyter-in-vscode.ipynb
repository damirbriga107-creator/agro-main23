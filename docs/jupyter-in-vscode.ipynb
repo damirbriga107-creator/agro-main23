{
 "cells": [
  {
   "cell_type": "markdown",
   "id": "6af0f35f",
   "metadata": {},
   "source": [
    "# Jupyter Notebooks in VS Code\n",
    "\n",
    "This notebook captures the VS Code guidance for working with Jupyter Notebooks: creating/opening notebooks, running cells, using the Variable Explorer and Data Viewer, connecting to remote servers, debugging, and exporting."
   ]
  },
  {
   "cell_type": "markdown",
   "id": "0c5ea3b8",
   "metadata": {},
   "source": [
    "## Setup\n",
    "\n",
    "- Activate a Python environment (Conda or virtualenv) that has `jupyter` installed.\n",
    "- In VS Code use `Python: Select Interpreter` (Ctrl+Shift+P) to pick the environment.\n",
    "- For debugging features ensure `ipykernel>=6` is installed for the kernel."
   ]
  },
  {
   "cell_type": "markdown",
   "id": "de3a9fec",
   "metadata": {},
   "source": [
    "## Create or Open a Notebook\n",
    "\n",
    "- Use `Create: New Jupyter Notebook` from the Command Palette or create a new `.ipynb` file.\n",
    "- Select a kernel from the kernel picker in the top-right of the Notebook Editor.\n",
    "- Language picker (bottom-right of each code cell) follows the kernel.\n"
   ]
  },
  {
   "cell_type": "code",
   "execution_count": null,
   "id": "66c0082c",
   "metadata": {},
   "outputs": [],
   "source": [
    "# Simple Python cell - run this to verify the kernel\n",
    "msg = 'Hello world from the Jupyter kernel in VS Code'\n",
    "print(msg)\n",
    "msg"
   ]
  },
  {
   "cell_type": "markdown",
   "id": "a35220a3",
   "metadata": {},
   "source": [
    "## Running Cells\n",
    "\n",
    "- Run single cell: Run icon at left of the cell, or `Ctrl+Enter` (execute and keep focus).\n",
    "- Run + insert below: `Shift+Enter` (moves focus to newly inserted cell below).\n",
    "- Run all / Run All Above / Run All Below: available in the notebook toolbar.\n",
    "- Run by Line: execute cell one statement at a time (useful for step-through without full debugger)."
   ]
  },
  {
   "cell_type": "markdown",
   "id": "0b302b1c",
   "metadata": {},
   "source": [
    "## Working with Cells (modes and shortcuts)\n",
    "\n",
    "- Modes: Unselected, Command (Esc), and Edit (Enter).\n",
    "- Command-mode shortcuts: A (add above), B (add below), DD (delete), M (convert to Markdown), Y (convert to Code), Z (undo).\n",
    "- Move cells: drag-and-drop or `Alt+Arrow` (move selected cells up/down)."
   ]
  },
  {
   "cell_type": "code",
   "execution_count": null,
   "id": "67a8e005",
   "metadata": {},
   "outputs": [],
   "source": [
    "# DataFrame example to open in Variable Explorer / Data Viewer\n",
    "import pandas as pd\n",
    "\n",
    ",\n",
    ",\n",
    "# In VS Code, after running this cell you can open the Variable Explorer and click the eye icon to open the Data Viewer\n",
    "df"
   ]
  },
  {
   "cell_type": "code",
   "execution_count": null,
   "id": "f10da154",
   "metadata": {},
   "outputs": [],
   "source": [
    "# Simple matplotlib plot - hover the output and use the Save icon to export the image\n",
    "import matplotlib.pyplot as plt\n",
    "\n",
    "3\n",
    ",\n",
    ",\n",
    ",\n",
    ",\n",
    ",\n",
    ",\n",
    "\n",
    ": \n",
    ",\n",
    ": { \n",
    ": \n",
    " },\n",
    ": [\n",
    ",\n",
    ",\n",
    ",\n",
    " ,\n",
    "Show variable in data viewer\" button beside a DataFrame variable to open the Data Viewer.\n",
    "- Filter rows by typing in the column filter box; prefix with `=` for exact matches or use regex for advanced filtering."
   ]
  },
  {
   "cell_type": "markdown",
   "id": "4fd970eb",
   "metadata": {},
   "source": [
    "## Save and Export\n",
    "\n",
    "- Save notebook: `Ctrl+S` or File > Save.\n",
    "- Export: use `... > Export` in the notebook toolbar to export as `.py`, `.html`, or `.pdf` (PDF requires TeX).\n",
    "- To export plots reliably to PDF, consider exporting to HTML first and printing to PDF from the browser if SVG-only outputs are used."
   ]
  },
  {
   "cell_type": "markdown",
   "id": "606a0b5a",
   "metadata": {},
   "source": [
    "## Debugging Notebooks\n",
    "\n",
    "- Run by Line: step through a cell one statement at a time using the Run by Line button in the cell toolbar.\n",
    "- Debug Cell: set breakpoints and use the Debug Cell button to start a full debug session (requires `ipykernel>=6`).\n",
    "- The full debugger supports breakpoints across cells and into `.py` modules, and exposes the Debug view and Debug Console."
   ]
  },
  {
   "cell_type": "markdown",
   "id": "02ff1663",
   "metadata": {},
   "source": [
    "## Connect to a Remote Jupyter Server\n",
    "\n",
    "- Open the Kernel Picker and choose `Existing Jupyter Server`.\n",
    "- Enter the running server URL including the token parameter (e.g., `http://host:8888/?token=...`) or provide credentials when asked.\n",
    "- For security, use SSL and token authentication on remote servers. See Jupyter docs for securing a server."
   ]
  },
  {
   "cell_type": "markdown",
   "id": "d49c858e",
   "metadata": {},
   "source": [
    "## Table of Contents and Outline\n",
    "\n",
    "- Use the Outline view to navigate by Markdown headers. Enable showing code cells via the setting `Notebook > Outline: Show Code Cells`.\n",
    "- Use the filter control in the Outline to show only Markdown headers, code cells, or code symbols."
   ]
  },
  {
   "cell_type": "markdown",
   "id": "80170d4c",
   "metadata": {},
   "source": [
    "## Notes & Troubleshooting\n",
    "\n",
    "- If notebook execution is disabled due to Workspace Trust, mark the folder as trusted to enable execution and rich outputs.\n",
    "- If export to PDF fails, install TeX or export to HTML and print to PDF from a browser.\n",
    "- If debugging features aren't available, verify `ipykernel` version and the selected interpreter."
   ]
  },
  {
   "cell_type": "markdown",
   "id": "9c972220",
   "metadata": {},
   "source": [
    "---\n",
    "\n",
    "This notebook is a concise companion to the VS Code Jupyter Notebooks documentation. Open `docs/jupyter-in-vscode.ipynb` in VS Code to run it interactively."
   ]
  }
 ],
 "metadata": {
  "language_info": {
   "name": "python"
  }
 },
 "nbformat": 4,
 "nbformat_minor": 5
}
