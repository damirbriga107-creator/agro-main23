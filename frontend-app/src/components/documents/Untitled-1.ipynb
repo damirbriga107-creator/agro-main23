{
 "cells": [
  {
   "cell_type": "code",
   "execution_count": 1,
   "id": "b1682c28",
   "metadata": {
    "vscode": {
     "languageId": "markdown"
    }
   },
   "outputs": [
    {
     "ename": "SyntaxError",
     "evalue": "invalid syntax (3433497584.py, line 3)",
     "output_type": "error",
     "traceback": [
      "  \u001b[36mCell\u001b[39m\u001b[36m \u001b[39m\u001b[32mIn[1]\u001b[39m\u001b[32m, line 3\u001b[39m\n\u001b[31m    \u001b[39m\u001b[31mThis notebook is intended for development and integration tasks related to the DaorsAgro microservices-based agricultural financial management platform.\u001b[39m\n         ^\n\u001b[31mSyntaxError\u001b[39m\u001b[31m:\u001b[39m invalid syntax\n"
     ]
    }
   ],
   "source": [
    "# DaorsAgro Platform: Jupyter Notebook\n",
    "\n",
    "This notebook is intended for development and integration tasks related to the DaorsAgro microservices-based agricultural financial management platform.\n",
    "\n",
    "## Quick Reference\n",
    "\n",
    "- **Install dependencies:**  \n",
    "    `!npm run install:all`\n",
    "\n",
    "- **Start all services (dev):**  \n",
    "    `!npm run docker:up`  \n",
    "    `!npm run dev`\n",
    "\n",
    "- **Run tests:**  \n",
    "    `!npm run test`\n",
    "\n",
    "- **Build all packages:**  \n",
    "    `!npm run build`\n",
    "\n",
    "- **Lint/format:**  \n",
    "    `!npm run lint` / `!npm run format`\n",
    "\n",
    "- **Database migrations:**  \n",
    "    `!npm run db:migrate` / `!npm run db:seed`\n",
    "\n",
    "- **Stop services:**  \n",
    "    `!npm run docker:down`\n",
    "\n",
    "## Service Development Checklist\n",
    "\n",
    "1. Duplicate an existing service in `backend/services/`.\n",
    "2. Update `package.json`, `Dockerfile`, and add environment variables.\n",
    "3. Register the service in the API Gateway (`backend/api-gateway/src/index.ts` and `service-discovery.service.ts`).\n",
    "4. Implement `/health` endpoint.\n",
    "5. Ensure metrics, logging, and error handling follow platform conventions.\n",
    "6. Add and run unit/integration tests.\n",
    "7. Update documentation in `docs/` and service README.\n",
    "\n",
    "## Useful Links\n",
    "\n",
    "- [Architecture Diagram](daorsagro_architecture.png)\n",
    "- [Backend Specifications](Backend-Specifications.md)\n",
    "- [Frontend Specifications](Frontend-Specifications.md)\n",
    "\n",
    "---\n",
    "\n",
    "_Use this notebook to document experiments, run scripts, and track integration progress for DaorsAgro._"
   ]
  }
 ],
 "metadata": {
  "kernelspec": {
   "display_name": "Python 3",
   "language": "python",
   "name": "python3"
  },
  "language_info": {
   "codemirror_mode": {
    "name": "ipython",
    "version": 3
   },
   "file_extension": ".py",
   "mimetype": "text/x-python",
   "name": "python",
   "nbconvert_exporter": "python",
   "pygments_lexer": "ipython3",
   "version": "3.13.7"
  }
 },
 "nbformat": 4,
 "nbformat_minor": 5
}
